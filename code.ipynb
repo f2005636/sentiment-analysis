{
 "cells": [
  {
   "cell_type": "markdown",
   "id": "56387fda-51f7-434d-a43c-519e015aa763",
   "metadata": {},
   "source": [
    "### 1. import libraries"
   ]
  },
  {
   "cell_type": "code",
   "execution_count": 1,
   "id": "90041946",
   "metadata": {},
   "outputs": [],
   "source": [
    "import re\n",
    "import string\n",
    "import numpy as np\n",
    "import pandas as pd\n",
    "\n",
    "from sklearn.ensemble import RandomForestClassifier\n",
    "from sklearn.feature_extraction.text import TfidfVectorizer\n",
    "from sklearn.model_selection import GridSearchCV, train_test_split\n",
    "from sklearn.metrics import roc_auc_score, make_scorer, confusion_matrix, ConfusionMatrixDisplay"
   ]
  },
  {
   "cell_type": "code",
   "execution_count": 2,
   "id": "ebe4b608",
   "metadata": {},
   "outputs": [],
   "source": [
    "import nltk\n",
    "#nltk.download('stopwords')\n",
    "from nltk.corpus import stopwords\n",
    "from nltk.stem import PorterStemmer\n",
    "\n",
    "import warnings\n",
    "warnings.filterwarnings(\"ignore\")\n",
    "pd.set_option('display.max_rows', None)\n",
    "pd.set_option('display.max_columns', None)"
   ]
  },
  {
   "cell_type": "markdown",
   "id": "fdcca9c8",
   "metadata": {},
   "source": [
    "### 2. import dataset"
   ]
  },
  {
   "cell_type": "code",
   "execution_count": 3,
   "id": "fee07043",
   "metadata": {},
   "outputs": [
    {
     "data": {
      "text/plain": [
       "(54, 2)"
      ]
     },
     "execution_count": 3,
     "metadata": {},
     "output_type": "execute_result"
    }
   ],
   "source": [
    "df = pd.read_csv('input.csv', encoding='latin1')\n",
    "df = df[df['Review'].notnull()]\n",
    "df.shape"
   ]
  },
  {
   "cell_type": "code",
   "execution_count": 4,
   "id": "2a457251",
   "metadata": {},
   "outputs": [
    {
     "data": {
      "application/vnd.microsoft.datawrangler.viewer.v0+json": {
       "columns": [
        {
         "name": "Review",
         "rawType": "float64",
         "type": "float"
        },
        {
         "name": "count",
         "rawType": "int64",
         "type": "integer"
        }
       ],
       "ref": "9267d334-907d-4876-9c65-6acd35c778a9",
       "rows": [
        [
         "0.0",
         "36"
        ],
        [
         "1.0",
         "18"
        ]
       ],
       "shape": {
        "columns": 1,
        "rows": 2
       }
      },
      "text/plain": [
       "Review\n",
       "0.0    36\n",
       "1.0    18\n",
       "Name: count, dtype: int64"
      ]
     },
     "execution_count": 4,
     "metadata": {},
     "output_type": "execute_result"
    }
   ],
   "source": [
    "df['Review'].value_counts()"
   ]
  },
  {
   "cell_type": "markdown",
   "id": "4a844d9b",
   "metadata": {},
   "source": [
    "### 3. clean data"
   ]
  },
  {
   "cell_type": "code",
   "execution_count": 5,
   "id": "f47733a9-795b-40a6-9aec-bb3d80e034c8",
   "metadata": {},
   "outputs": [
    {
     "data": {
      "text/plain": [
       "(54, 2)"
      ]
     },
     "execution_count": 5,
     "metadata": {},
     "output_type": "execute_result"
    }
   ],
   "source": [
    "def clean_text(text):\n",
    "    if pd.isnull(text): return ''\n",
    "    text = text.lower()  # lowercase\n",
    "    text = re.sub(r'\\d+', '', text)  # remove digits\n",
    "    text = text.translate(str.maketrans('', '', string.punctuation))  # remove punctuation\n",
    "    text = text.strip()  # remove leading/trailing spaces\n",
    "    \n",
    "    stemmer = PorterStemmer() # reduces a word to its root form by removing suffixes\n",
    "    words = text.split() # split sentences to words \n",
    "    words = [word for word in words if word not in stopwords.words('english')]  # remove stopwords\n",
    "    words = [stemmer.stem(word) for word in words]  # stemming\n",
    "    return ' '.join(words)\n",
    "\n",
    "df['Clean Text'] = df['Review Text'].apply(clean_text)\n",
    "df_clean = df[['Clean Text', 'Review']]\n",
    "df_clean.shape"
   ]
  },
  {
   "cell_type": "code",
   "execution_count": 6,
   "id": "7782ceeb",
   "metadata": {},
   "outputs": [
    {
     "data": {
      "text/plain": [
       "(54, 104)"
      ]
     },
     "execution_count": 6,
     "metadata": {},
     "output_type": "execute_result"
    }
   ],
   "source": [
    "tfidf = TfidfVectorizer()\n",
    "df_tfidf = tfidf.fit_transform(df_clean['Clean Text'])\n",
    "df_tfidf = pd.DataFrame(df_tfidf.toarray(), columns=tfidf.get_feature_names_out())\n",
    "df_tfidf['review'] = df_clean['Review'].values\n",
    "df_tfidf.shape"
   ]
  },
  {
   "cell_type": "markdown",
   "id": "47901157",
   "metadata": {},
   "source": [
    "### 4. grid search"
   ]
  },
  {
   "cell_type": "code",
   "execution_count": 7,
   "id": "d5c76c30",
   "metadata": {},
   "outputs": [
    {
     "name": "stdout",
     "output_type": "stream",
     "text": [
      "Fitting 3 folds for each of 243 candidates, totalling 729 fits\n",
      "Best Parameters: {'max_depth': 5, 'max_features': None, 'min_samples_leaf': 3, 'n_estimators': 10, 'random_state': 0}\n",
      "Best AUC-ROC Score: 0.9236111111111112\n"
     ]
    }
   ],
   "source": [
    "x = df_tfidf.drop('review', axis=1)\n",
    "y = df_tfidf[['review']]\n",
    "\n",
    "rf = RandomForestClassifier()\n",
    "param_grid = {'max_depth': [2, 5, 10],\n",
    "              'max_features': ['sqrt', None, 'log2'],\n",
    "              'min_samples_leaf': [3, 5, 10],\n",
    "              'n_estimators': [5, 10, 20],\n",
    "              'random_state': [0, 7, 42]}\n",
    "\n",
    "scorer = make_scorer(roc_auc_score, needs_proba=True)\n",
    "grid_search = GridSearchCV(estimator=rf, param_grid=param_grid,    \n",
    "                           scoring=scorer, cv=3, n_jobs=-1, verbose=2)\n",
    "grid_search.fit(x, y)\n",
    "\n",
    "print(\"Best Parameters:\", grid_search.best_params_)\n",
    "print(\"Best AUC-ROC Score:\", grid_search.best_score_)"
   ]
  },
  {
   "cell_type": "code",
   "execution_count": 8,
   "id": "ca08a993",
   "metadata": {},
   "outputs": [
    {
     "data": {
      "application/vnd.microsoft.datawrangler.viewer.v0+json": {
       "columns": [
        {
         "name": "index",
         "rawType": "int64",
         "type": "integer"
        },
        {
         "name": "feature",
         "rawType": "object",
         "type": "string"
        },
        {
         "name": "importance",
         "rawType": "float64",
         "type": "float"
        }
       ],
       "ref": "fbecb1b0-a83a-4b1d-a761-fe8e222fafdc",
       "rows": [
        [
         "57",
         "love",
         "0.30136302274601745"
        ],
        [
         "76",
         "read",
         "0.20088491732291916"
        ],
        [
         "38",
         "good",
         "0.14056431591678384"
        ],
        [
         "39",
         "great",
         "0.13510840377570177"
        ],
        [
         "17",
         "book",
         "0.13236793015466855"
        ],
        [
         "87",
         "terribl",
         "0.027813836092702916"
        ],
        [
         "14",
         "best",
         "0.024781633145356485"
        ],
        [
         "19",
         "charact",
         "0.015669128023731903"
        ],
        [
         "85",
         "struggl",
         "0.009593000946509368"
        ],
        [
         "10",
         "bad",
         "0.005302458038653713"
        ],
        [
         "92",
         "trash",
         "0.003873462172718484"
        ],
        [
         "91",
         "time",
         "0.002505774624649416"
        ],
        [
         "98",
         "wors",
         "0.00017211703958692118"
        ],
        [
         "70",
         "paid",
         "0.0"
        ],
        [
         "71",
         "peopl",
         "0.0"
        ],
        [
         "72",
         "piec",
         "0.0"
        ],
        [
         "73",
         "plot",
         "0.0"
        ],
        [
         "69",
         "otherwis",
         "0.0"
        ],
        [
         "74",
         "prequel",
         "0.0"
        ],
        [
         "68",
         "omg",
         "0.0"
        ],
        [
         "0",
         "absolut",
         "0.0"
        ],
        [
         "67",
         "ok",
         "0.0"
        ],
        [
         "75",
         "pretti",
         "0.0"
        ],
        [
         "65",
         "new",
         "0.0"
        ],
        [
         "64",
         "never",
         "0.0"
        ],
        [
         "63",
         "much",
         "0.0"
        ],
        [
         "62",
         "movi",
         "0.0"
        ],
        [
         "61",
         "money",
         "0.0"
        ],
        [
         "60",
         "middl",
         "0.0"
        ],
        [
         "59",
         "mani",
         "0.0"
        ],
        [
         "58",
         "main",
         "0.0"
        ],
        [
         "66",
         "noth",
         "0.0"
        ],
        [
         "80",
         "save",
         "0.0"
        ],
        [
         "77",
         "real",
         "0.0"
        ],
        [
         "90",
         "threaten",
         "0.0"
        ],
        [
         "101",
         "write",
         "0.0"
        ],
        [
         "100",
         "wouldnt",
         "0.0"
        ],
        [
         "99",
         "would",
         "0.0"
        ],
        [
         "97",
         "wizard",
         "0.0"
        ],
        [
         "96",
         "wast",
         "0.0"
        ],
        [
         "95",
         "waslack",
         "0.0"
        ],
        [
         "94",
         "wait",
         "0.0"
        ],
        [
         "93",
         "twist",
         "0.0"
        ],
        [
         "89",
         "that",
         "0.0"
        ],
        [
         "78",
         "realli",
         "0.0"
        ],
        [
         "88",
         "thank",
         "0.0"
        ],
        [
         "86",
         "stuff",
         "0.0"
        ],
        [
         "84",
         "stori",
         "0.0"
        ],
        [
         "83",
         "someth",
         "0.0"
        ],
        [
         "82",
         "second",
         "0.0"
        ]
       ],
       "shape": {
        "columns": 2,
        "rows": 103
       }
      },
      "text/html": [
       "<div>\n",
       "<style scoped>\n",
       "    .dataframe tbody tr th:only-of-type {\n",
       "        vertical-align: middle;\n",
       "    }\n",
       "\n",
       "    .dataframe tbody tr th {\n",
       "        vertical-align: top;\n",
       "    }\n",
       "\n",
       "    .dataframe thead th {\n",
       "        text-align: right;\n",
       "    }\n",
       "</style>\n",
       "<table border=\"1\" class=\"dataframe\">\n",
       "  <thead>\n",
       "    <tr style=\"text-align: right;\">\n",
       "      <th></th>\n",
       "      <th>feature</th>\n",
       "      <th>importance</th>\n",
       "    </tr>\n",
       "  </thead>\n",
       "  <tbody>\n",
       "    <tr>\n",
       "      <th>57</th>\n",
       "      <td>love</td>\n",
       "      <td>0.301363</td>\n",
       "    </tr>\n",
       "    <tr>\n",
       "      <th>76</th>\n",
       "      <td>read</td>\n",
       "      <td>0.200885</td>\n",
       "    </tr>\n",
       "    <tr>\n",
       "      <th>38</th>\n",
       "      <td>good</td>\n",
       "      <td>0.140564</td>\n",
       "    </tr>\n",
       "    <tr>\n",
       "      <th>39</th>\n",
       "      <td>great</td>\n",
       "      <td>0.135108</td>\n",
       "    </tr>\n",
       "    <tr>\n",
       "      <th>17</th>\n",
       "      <td>book</td>\n",
       "      <td>0.132368</td>\n",
       "    </tr>\n",
       "    <tr>\n",
       "      <th>87</th>\n",
       "      <td>terribl</td>\n",
       "      <td>0.027814</td>\n",
       "    </tr>\n",
       "    <tr>\n",
       "      <th>14</th>\n",
       "      <td>best</td>\n",
       "      <td>0.024782</td>\n",
       "    </tr>\n",
       "    <tr>\n",
       "      <th>19</th>\n",
       "      <td>charact</td>\n",
       "      <td>0.015669</td>\n",
       "    </tr>\n",
       "    <tr>\n",
       "      <th>85</th>\n",
       "      <td>struggl</td>\n",
       "      <td>0.009593</td>\n",
       "    </tr>\n",
       "    <tr>\n",
       "      <th>10</th>\n",
       "      <td>bad</td>\n",
       "      <td>0.005302</td>\n",
       "    </tr>\n",
       "    <tr>\n",
       "      <th>92</th>\n",
       "      <td>trash</td>\n",
       "      <td>0.003873</td>\n",
       "    </tr>\n",
       "    <tr>\n",
       "      <th>91</th>\n",
       "      <td>time</td>\n",
       "      <td>0.002506</td>\n",
       "    </tr>\n",
       "    <tr>\n",
       "      <th>98</th>\n",
       "      <td>wors</td>\n",
       "      <td>0.000172</td>\n",
       "    </tr>\n",
       "    <tr>\n",
       "      <th>70</th>\n",
       "      <td>paid</td>\n",
       "      <td>0.000000</td>\n",
       "    </tr>\n",
       "    <tr>\n",
       "      <th>71</th>\n",
       "      <td>peopl</td>\n",
       "      <td>0.000000</td>\n",
       "    </tr>\n",
       "    <tr>\n",
       "      <th>72</th>\n",
       "      <td>piec</td>\n",
       "      <td>0.000000</td>\n",
       "    </tr>\n",
       "    <tr>\n",
       "      <th>73</th>\n",
       "      <td>plot</td>\n",
       "      <td>0.000000</td>\n",
       "    </tr>\n",
       "    <tr>\n",
       "      <th>69</th>\n",
       "      <td>otherwis</td>\n",
       "      <td>0.000000</td>\n",
       "    </tr>\n",
       "    <tr>\n",
       "      <th>74</th>\n",
       "      <td>prequel</td>\n",
       "      <td>0.000000</td>\n",
       "    </tr>\n",
       "    <tr>\n",
       "      <th>68</th>\n",
       "      <td>omg</td>\n",
       "      <td>0.000000</td>\n",
       "    </tr>\n",
       "    <tr>\n",
       "      <th>0</th>\n",
       "      <td>absolut</td>\n",
       "      <td>0.000000</td>\n",
       "    </tr>\n",
       "    <tr>\n",
       "      <th>67</th>\n",
       "      <td>ok</td>\n",
       "      <td>0.000000</td>\n",
       "    </tr>\n",
       "    <tr>\n",
       "      <th>75</th>\n",
       "      <td>pretti</td>\n",
       "      <td>0.000000</td>\n",
       "    </tr>\n",
       "    <tr>\n",
       "      <th>65</th>\n",
       "      <td>new</td>\n",
       "      <td>0.000000</td>\n",
       "    </tr>\n",
       "    <tr>\n",
       "      <th>64</th>\n",
       "      <td>never</td>\n",
       "      <td>0.000000</td>\n",
       "    </tr>\n",
       "    <tr>\n",
       "      <th>63</th>\n",
       "      <td>much</td>\n",
       "      <td>0.000000</td>\n",
       "    </tr>\n",
       "    <tr>\n",
       "      <th>62</th>\n",
       "      <td>movi</td>\n",
       "      <td>0.000000</td>\n",
       "    </tr>\n",
       "    <tr>\n",
       "      <th>61</th>\n",
       "      <td>money</td>\n",
       "      <td>0.000000</td>\n",
       "    </tr>\n",
       "    <tr>\n",
       "      <th>60</th>\n",
       "      <td>middl</td>\n",
       "      <td>0.000000</td>\n",
       "    </tr>\n",
       "    <tr>\n",
       "      <th>59</th>\n",
       "      <td>mani</td>\n",
       "      <td>0.000000</td>\n",
       "    </tr>\n",
       "    <tr>\n",
       "      <th>58</th>\n",
       "      <td>main</td>\n",
       "      <td>0.000000</td>\n",
       "    </tr>\n",
       "    <tr>\n",
       "      <th>66</th>\n",
       "      <td>noth</td>\n",
       "      <td>0.000000</td>\n",
       "    </tr>\n",
       "    <tr>\n",
       "      <th>80</th>\n",
       "      <td>save</td>\n",
       "      <td>0.000000</td>\n",
       "    </tr>\n",
       "    <tr>\n",
       "      <th>77</th>\n",
       "      <td>real</td>\n",
       "      <td>0.000000</td>\n",
       "    </tr>\n",
       "    <tr>\n",
       "      <th>90</th>\n",
       "      <td>threaten</td>\n",
       "      <td>0.000000</td>\n",
       "    </tr>\n",
       "    <tr>\n",
       "      <th>101</th>\n",
       "      <td>write</td>\n",
       "      <td>0.000000</td>\n",
       "    </tr>\n",
       "    <tr>\n",
       "      <th>100</th>\n",
       "      <td>wouldnt</td>\n",
       "      <td>0.000000</td>\n",
       "    </tr>\n",
       "    <tr>\n",
       "      <th>99</th>\n",
       "      <td>would</td>\n",
       "      <td>0.000000</td>\n",
       "    </tr>\n",
       "    <tr>\n",
       "      <th>97</th>\n",
       "      <td>wizard</td>\n",
       "      <td>0.000000</td>\n",
       "    </tr>\n",
       "    <tr>\n",
       "      <th>96</th>\n",
       "      <td>wast</td>\n",
       "      <td>0.000000</td>\n",
       "    </tr>\n",
       "    <tr>\n",
       "      <th>95</th>\n",
       "      <td>waslack</td>\n",
       "      <td>0.000000</td>\n",
       "    </tr>\n",
       "    <tr>\n",
       "      <th>94</th>\n",
       "      <td>wait</td>\n",
       "      <td>0.000000</td>\n",
       "    </tr>\n",
       "    <tr>\n",
       "      <th>93</th>\n",
       "      <td>twist</td>\n",
       "      <td>0.000000</td>\n",
       "    </tr>\n",
       "    <tr>\n",
       "      <th>89</th>\n",
       "      <td>that</td>\n",
       "      <td>0.000000</td>\n",
       "    </tr>\n",
       "    <tr>\n",
       "      <th>78</th>\n",
       "      <td>realli</td>\n",
       "      <td>0.000000</td>\n",
       "    </tr>\n",
       "    <tr>\n",
       "      <th>88</th>\n",
       "      <td>thank</td>\n",
       "      <td>0.000000</td>\n",
       "    </tr>\n",
       "    <tr>\n",
       "      <th>86</th>\n",
       "      <td>stuff</td>\n",
       "      <td>0.000000</td>\n",
       "    </tr>\n",
       "    <tr>\n",
       "      <th>84</th>\n",
       "      <td>stori</td>\n",
       "      <td>0.000000</td>\n",
       "    </tr>\n",
       "    <tr>\n",
       "      <th>83</th>\n",
       "      <td>someth</td>\n",
       "      <td>0.000000</td>\n",
       "    </tr>\n",
       "    <tr>\n",
       "      <th>82</th>\n",
       "      <td>second</td>\n",
       "      <td>0.000000</td>\n",
       "    </tr>\n",
       "    <tr>\n",
       "      <th>81</th>\n",
       "      <td>scientist</td>\n",
       "      <td>0.000000</td>\n",
       "    </tr>\n",
       "    <tr>\n",
       "      <th>55</th>\n",
       "      <td>long</td>\n",
       "      <td>0.000000</td>\n",
       "    </tr>\n",
       "    <tr>\n",
       "      <th>79</th>\n",
       "      <td>rule</td>\n",
       "      <td>0.000000</td>\n",
       "    </tr>\n",
       "    <tr>\n",
       "      <th>56</th>\n",
       "      <td>lot</td>\n",
       "      <td>0.000000</td>\n",
       "    </tr>\n",
       "    <tr>\n",
       "      <th>51</th>\n",
       "      <td>lead</td>\n",
       "      <td>0.000000</td>\n",
       "    </tr>\n",
       "    <tr>\n",
       "      <th>54</th>\n",
       "      <td>like</td>\n",
       "      <td>0.000000</td>\n",
       "    </tr>\n",
       "    <tr>\n",
       "      <th>53</th>\n",
       "      <td>light</td>\n",
       "      <td>0.000000</td>\n",
       "    </tr>\n",
       "    <tr>\n",
       "      <th>26</th>\n",
       "      <td>darn</td>\n",
       "      <td>0.000000</td>\n",
       "    </tr>\n",
       "    <tr>\n",
       "      <th>25</th>\n",
       "      <td>craptast</td>\n",
       "      <td>0.000000</td>\n",
       "    </tr>\n",
       "    <tr>\n",
       "      <th>24</th>\n",
       "      <td>crappi</td>\n",
       "      <td>0.000000</td>\n",
       "    </tr>\n",
       "    <tr>\n",
       "      <th>23</th>\n",
       "      <td>crap</td>\n",
       "      <td>0.000000</td>\n",
       "    </tr>\n",
       "    <tr>\n",
       "      <th>22</th>\n",
       "      <td>couldnt</td>\n",
       "      <td>0.000000</td>\n",
       "    </tr>\n",
       "    <tr>\n",
       "      <th>21</th>\n",
       "      <td>cost</td>\n",
       "      <td>0.000000</td>\n",
       "    </tr>\n",
       "    <tr>\n",
       "      <th>20</th>\n",
       "      <td>compar</td>\n",
       "      <td>0.000000</td>\n",
       "    </tr>\n",
       "    <tr>\n",
       "      <th>18</th>\n",
       "      <td>buy</td>\n",
       "      <td>0.000000</td>\n",
       "    </tr>\n",
       "    <tr>\n",
       "      <th>16</th>\n",
       "      <td>bit</td>\n",
       "      <td>0.000000</td>\n",
       "    </tr>\n",
       "    <tr>\n",
       "      <th>15</th>\n",
       "      <td>better</td>\n",
       "      <td>0.000000</td>\n",
       "    </tr>\n",
       "    <tr>\n",
       "      <th>13</th>\n",
       "      <td>begin</td>\n",
       "      <td>0.000000</td>\n",
       "    </tr>\n",
       "    <tr>\n",
       "      <th>12</th>\n",
       "      <td>bark</td>\n",
       "      <td>0.000000</td>\n",
       "    </tr>\n",
       "    <tr>\n",
       "      <th>11</th>\n",
       "      <td>bare</td>\n",
       "      <td>0.000000</td>\n",
       "    </tr>\n",
       "    <tr>\n",
       "      <th>9</th>\n",
       "      <td>avoid</td>\n",
       "      <td>0.000000</td>\n",
       "    </tr>\n",
       "    <tr>\n",
       "      <th>8</th>\n",
       "      <td>author</td>\n",
       "      <td>0.000000</td>\n",
       "    </tr>\n",
       "    <tr>\n",
       "      <th>7</th>\n",
       "      <td>anyon</td>\n",
       "      <td>0.000000</td>\n",
       "    </tr>\n",
       "    <tr>\n",
       "      <th>6</th>\n",
       "      <td>anticlimact</td>\n",
       "      <td>0.000000</td>\n",
       "    </tr>\n",
       "    <tr>\n",
       "      <th>5</th>\n",
       "      <td>alright</td>\n",
       "      <td>0.000000</td>\n",
       "    </tr>\n",
       "    <tr>\n",
       "      <th>4</th>\n",
       "      <td>airplan</td>\n",
       "      <td>0.000000</td>\n",
       "    </tr>\n",
       "    <tr>\n",
       "      <th>3</th>\n",
       "      <td>adventur</td>\n",
       "      <td>0.000000</td>\n",
       "    </tr>\n",
       "    <tr>\n",
       "      <th>2</th>\n",
       "      <td>actual</td>\n",
       "      <td>0.000000</td>\n",
       "    </tr>\n",
       "    <tr>\n",
       "      <th>27</th>\n",
       "      <td>data</td>\n",
       "      <td>0.000000</td>\n",
       "    </tr>\n",
       "    <tr>\n",
       "      <th>28</th>\n",
       "      <td>develop</td>\n",
       "      <td>0.000000</td>\n",
       "    </tr>\n",
       "    <tr>\n",
       "      <th>29</th>\n",
       "      <td>devoid</td>\n",
       "      <td>0.000000</td>\n",
       "    </tr>\n",
       "    <tr>\n",
       "      <th>43</th>\n",
       "      <td>hate</td>\n",
       "      <td>0.000000</td>\n",
       "    </tr>\n",
       "    <tr>\n",
       "      <th>52</th>\n",
       "      <td>life</td>\n",
       "      <td>0.000000</td>\n",
       "    </tr>\n",
       "    <tr>\n",
       "      <th>1</th>\n",
       "      <td>action</td>\n",
       "      <td>0.000000</td>\n",
       "    </tr>\n",
       "    <tr>\n",
       "      <th>50</th>\n",
       "      <td>kill</td>\n",
       "      <td>0.000000</td>\n",
       "    </tr>\n",
       "    <tr>\n",
       "      <th>49</th>\n",
       "      <td>ive</td>\n",
       "      <td>0.000000</td>\n",
       "    </tr>\n",
       "    <tr>\n",
       "      <th>48</th>\n",
       "      <td>im</td>\n",
       "      <td>0.000000</td>\n",
       "    </tr>\n",
       "    <tr>\n",
       "      <th>47</th>\n",
       "      <td>ill</td>\n",
       "      <td>0.000000</td>\n",
       "    </tr>\n",
       "    <tr>\n",
       "      <th>46</th>\n",
       "      <td>howev</td>\n",
       "      <td>0.000000</td>\n",
       "    </tr>\n",
       "    <tr>\n",
       "      <th>45</th>\n",
       "      <td>hot</td>\n",
       "      <td>0.000000</td>\n",
       "    </tr>\n",
       "    <tr>\n",
       "      <th>44</th>\n",
       "      <td>heartbroken</td>\n",
       "      <td>0.000000</td>\n",
       "    </tr>\n",
       "    <tr>\n",
       "      <th>42</th>\n",
       "      <td>hard</td>\n",
       "      <td>0.000000</td>\n",
       "    </tr>\n",
       "    <tr>\n",
       "      <th>30</th>\n",
       "      <td>dog</td>\n",
       "      <td>0.000000</td>\n",
       "    </tr>\n",
       "    <tr>\n",
       "      <th>41</th>\n",
       "      <td>handsdown</td>\n",
       "      <td>0.000000</td>\n",
       "    </tr>\n",
       "    <tr>\n",
       "      <th>40</th>\n",
       "      <td>half</td>\n",
       "      <td>0.000000</td>\n",
       "    </tr>\n",
       "    <tr>\n",
       "      <th>37</th>\n",
       "      <td>get</td>\n",
       "      <td>0.000000</td>\n",
       "    </tr>\n",
       "    <tr>\n",
       "      <th>36</th>\n",
       "      <td>garbag</td>\n",
       "      <td>0.000000</td>\n",
       "    </tr>\n",
       "    <tr>\n",
       "      <th>35</th>\n",
       "      <td>first</td>\n",
       "      <td>0.000000</td>\n",
       "    </tr>\n",
       "    <tr>\n",
       "      <th>34</th>\n",
       "      <td>favorit</td>\n",
       "      <td>0.000000</td>\n",
       "    </tr>\n",
       "    <tr>\n",
       "      <th>33</th>\n",
       "      <td>ever</td>\n",
       "      <td>0.000000</td>\n",
       "    </tr>\n",
       "    <tr>\n",
       "      <th>32</th>\n",
       "      <td>end</td>\n",
       "      <td>0.000000</td>\n",
       "    </tr>\n",
       "    <tr>\n",
       "      <th>31</th>\n",
       "      <td>dont</td>\n",
       "      <td>0.000000</td>\n",
       "    </tr>\n",
       "    <tr>\n",
       "      <th>102</th>\n",
       "      <td>year</td>\n",
       "      <td>0.000000</td>\n",
       "    </tr>\n",
       "  </tbody>\n",
       "</table>\n",
       "</div>"
      ],
      "text/plain": [
       "         feature  importance\n",
       "57          love    0.301363\n",
       "76          read    0.200885\n",
       "38          good    0.140564\n",
       "39         great    0.135108\n",
       "17          book    0.132368\n",
       "87       terribl    0.027814\n",
       "14          best    0.024782\n",
       "19       charact    0.015669\n",
       "85       struggl    0.009593\n",
       "10           bad    0.005302\n",
       "92         trash    0.003873\n",
       "91          time    0.002506\n",
       "98          wors    0.000172\n",
       "70          paid    0.000000\n",
       "71         peopl    0.000000\n",
       "72          piec    0.000000\n",
       "73          plot    0.000000\n",
       "69      otherwis    0.000000\n",
       "74       prequel    0.000000\n",
       "68           omg    0.000000\n",
       "0        absolut    0.000000\n",
       "67            ok    0.000000\n",
       "75        pretti    0.000000\n",
       "65           new    0.000000\n",
       "64         never    0.000000\n",
       "63          much    0.000000\n",
       "62          movi    0.000000\n",
       "61         money    0.000000\n",
       "60         middl    0.000000\n",
       "59          mani    0.000000\n",
       "58          main    0.000000\n",
       "66          noth    0.000000\n",
       "80          save    0.000000\n",
       "77          real    0.000000\n",
       "90      threaten    0.000000\n",
       "101        write    0.000000\n",
       "100      wouldnt    0.000000\n",
       "99         would    0.000000\n",
       "97        wizard    0.000000\n",
       "96          wast    0.000000\n",
       "95       waslack    0.000000\n",
       "94          wait    0.000000\n",
       "93         twist    0.000000\n",
       "89          that    0.000000\n",
       "78        realli    0.000000\n",
       "88         thank    0.000000\n",
       "86         stuff    0.000000\n",
       "84         stori    0.000000\n",
       "83        someth    0.000000\n",
       "82        second    0.000000\n",
       "81     scientist    0.000000\n",
       "55          long    0.000000\n",
       "79          rule    0.000000\n",
       "56           lot    0.000000\n",
       "51          lead    0.000000\n",
       "54          like    0.000000\n",
       "53         light    0.000000\n",
       "26          darn    0.000000\n",
       "25      craptast    0.000000\n",
       "24        crappi    0.000000\n",
       "23          crap    0.000000\n",
       "22       couldnt    0.000000\n",
       "21          cost    0.000000\n",
       "20        compar    0.000000\n",
       "18           buy    0.000000\n",
       "16           bit    0.000000\n",
       "15        better    0.000000\n",
       "13         begin    0.000000\n",
       "12          bark    0.000000\n",
       "11          bare    0.000000\n",
       "9          avoid    0.000000\n",
       "8         author    0.000000\n",
       "7          anyon    0.000000\n",
       "6    anticlimact    0.000000\n",
       "5        alright    0.000000\n",
       "4        airplan    0.000000\n",
       "3       adventur    0.000000\n",
       "2         actual    0.000000\n",
       "27          data    0.000000\n",
       "28       develop    0.000000\n",
       "29        devoid    0.000000\n",
       "43          hate    0.000000\n",
       "52          life    0.000000\n",
       "1         action    0.000000\n",
       "50          kill    0.000000\n",
       "49           ive    0.000000\n",
       "48            im    0.000000\n",
       "47           ill    0.000000\n",
       "46         howev    0.000000\n",
       "45           hot    0.000000\n",
       "44   heartbroken    0.000000\n",
       "42          hard    0.000000\n",
       "30           dog    0.000000\n",
       "41     handsdown    0.000000\n",
       "40          half    0.000000\n",
       "37           get    0.000000\n",
       "36        garbag    0.000000\n",
       "35         first    0.000000\n",
       "34       favorit    0.000000\n",
       "33          ever    0.000000\n",
       "32           end    0.000000\n",
       "31          dont    0.000000\n",
       "102         year    0.000000"
      ]
     },
     "execution_count": 8,
     "metadata": {},
     "output_type": "execute_result"
    }
   ],
   "source": [
    "rf = grid_search.best_estimator_\n",
    "imp = rf.feature_importances_\n",
    "fname = x.columns\n",
    "\n",
    "df_imp = pd.DataFrame({'feature': fname, 'importance': imp})\n",
    "df_imp = df_imp.sort_values('importance', ascending=False)\n",
    "df_imp"
   ]
  },
  {
   "cell_type": "markdown",
   "id": "65e23d44",
   "metadata": {},
   "source": [
    "### 5. model fit"
   ]
  },
  {
   "cell_type": "code",
   "execution_count": 9,
   "id": "649289bb",
   "metadata": {},
   "outputs": [
    {
     "name": "stdout",
     "output_type": "stream",
     "text": [
      "AUC-ROC Score: 0.961\n"
     ]
    }
   ],
   "source": [
    "#rf = RandomForestClassifier(max_depth=2, max_features=None, min_samples_leaf=5, n_estimators=10, random_state=7)\n",
    "rf = RandomForestClassifier(max_depth=5, max_features=None, min_samples_leaf=3, n_estimators=10, random_state=0)\n",
    "rf = rf.fit(x,y)\n",
    "p = rf.predict_proba(x)[:, 1]\n",
    "print(\"AUC-ROC Score:\", np.round(roc_auc_score(y, p),3))"
   ]
  },
  {
   "cell_type": "code",
   "execution_count": 10,
   "id": "4fcb7e0c",
   "metadata": {},
   "outputs": [
    {
     "data": {
      "text/plain": [
       "array([[35,  1],\n",
       "       [ 4, 14]], dtype=int64)"
      ]
     },
     "execution_count": 10,
     "metadata": {},
     "output_type": "execute_result"
    }
   ],
   "source": [
    "p = rf.predict(x)\n",
    "cm = confusion_matrix(y, p)\n",
    "cm"
   ]
  }
 ],
 "metadata": {
  "kernelspec": {
   "display_name": "base",
   "language": "python",
   "name": "python3"
  },
  "language_info": {
   "codemirror_mode": {
    "name": "ipython",
    "version": 3
   },
   "file_extension": ".py",
   "mimetype": "text/x-python",
   "name": "python",
   "nbconvert_exporter": "python",
   "pygments_lexer": "ipython3",
   "version": "3.11.5"
  }
 },
 "nbformat": 4,
 "nbformat_minor": 5
}
